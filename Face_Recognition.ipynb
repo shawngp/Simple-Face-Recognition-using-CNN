{
  "nbformat": 4,
  "nbformat_minor": 0,
  "metadata": {
    "colab": {
      "provenance": []
    },
    "kernelspec": {
      "name": "python3",
      "display_name": "Python 3"
    },
    "language_info": {
      "name": "python"
    }
  },
  "cells": [
    {
      "cell_type": "code",
      "execution_count": null,
      "metadata": {
        "id": "rk2xPZJUoDCd"
      },
      "outputs": [],
      "source": [
        "!unzip /content/Face-Images"
      ]
    },
    {
      "cell_type": "code",
      "source": [
        "import keras\n",
        "from keras.utils import image_dataset_from_directory\n",
        "trainpath = '/content/Face_Images/Final_Training_Images'\n",
        "testpath = '/content/Face_Images/Final_Testing_Images'\n",
        "train_set = image_dataset_from_directory(\n",
        "    directory=trainpath,\n",
        "    image_size=(64, 64),\n",
        "    batch_size=32,\n",
        "    label_mode='categorical',\n",
        "    shuffle=True) # set as training data\n",
        "\n",
        "testing_set = image_dataset_from_directory(\n",
        "    directory = testpath, # same directory as training data\n",
        "    image_size=(64, 64),\n",
        "    shuffle=True,\n",
        "    batch_size=32,\n",
        "    label_mode='categorical')"
      ],
      "metadata": {
        "colab": {
          "base_uri": "https://localhost:8080/"
        },
        "id": "pSOXWb0HojhV",
        "outputId": "3b77cd15-19d7-48ed-facd-eb1d46bd430d"
      },
      "execution_count": null,
      "outputs": [
        {
          "output_type": "stream",
          "name": "stdout",
          "text": [
            "Found 244 files belonging to 16 classes.\n",
            "Found 64 files belonging to 16 classes.\n"
          ]
        }
      ]
    },
    {
      "cell_type": "code",
      "source": [
        "TrainClasses = train_set.class_names\n",
        "testing_set.class_names\n"
      ],
      "metadata": {
        "colab": {
          "base_uri": "https://localhost:8080/"
        },
        "id": "h2KGY8Ljq3RY",
        "outputId": "74ca10c6-ad12-4571-9405-c8a3aa16b88c"
      },
      "execution_count": null,
      "outputs": [
        {
          "output_type": "execute_result",
          "data": {
            "text/plain": [
              "['face1',\n",
              " 'face10',\n",
              " 'face11',\n",
              " 'face12',\n",
              " 'face13',\n",
              " 'face14',\n",
              " 'face15',\n",
              " 'face16',\n",
              " 'face2',\n",
              " 'face3',\n",
              " 'face4',\n",
              " 'face5',\n",
              " 'face6',\n",
              " 'face7',\n",
              " 'face8',\n",
              " 'face9']"
            ]
          },
          "metadata": {},
          "execution_count": 25
        }
      ]
    },
    {
      "cell_type": "code",
      "source": [
        "TrainClasses_dict = {}\n",
        "for i, id in enumerate(TrainClasses):\n",
        "  TrainClasses_dict[i] = id\n",
        "TrainClasses_dict"
      ],
      "metadata": {
        "colab": {
          "base_uri": "https://localhost:8080/"
        },
        "id": "fcIdZlKvsgyD",
        "outputId": "5fce75fb-7b87-4922-e10a-21596063c7cd"
      },
      "execution_count": null,
      "outputs": [
        {
          "output_type": "execute_result",
          "data": {
            "text/plain": [
              "{0: 'face1',\n",
              " 1: 'face10',\n",
              " 2: 'face11',\n",
              " 3: 'face12',\n",
              " 4: 'face13',\n",
              " 5: 'face14',\n",
              " 6: 'face15',\n",
              " 7: 'face16',\n",
              " 8: 'face2',\n",
              " 9: 'face3',\n",
              " 10: 'face4',\n",
              " 11: 'face5',\n",
              " 12: 'face6',\n",
              " 13: 'face7',\n",
              " 14: 'face8',\n",
              " 15: 'face9'}"
            ]
          },
          "metadata": {},
          "execution_count": 26
        }
      ]
    },
    {
      "cell_type": "code",
      "source": [
        "ResultMap={}\n",
        "for faceValue,faceName in zip(TrainClasses_dict,TrainClasses_dict):\n",
        "  ResultMap[faceValue]=faceName\n",
        "import pickle\n",
        "with open(\"ResultsMap.pkl\", 'wb') as fileWriteStream:\n",
        " pickle.dump(ResultMap, fileWriteStream)\n",
        "print(\"Mapping of Face and its ID\",ResultMap)\n",
        "OutputNeurons=len(ResultMap)\n",
        "print('\\n The Number of output neurons: ', OutputNeurons)\n"
      ],
      "metadata": {
        "colab": {
          "base_uri": "https://localhost:8080/"
        },
        "id": "ieX6U1U5r8wE",
        "outputId": "81708efc-3c7a-474e-e561-8b26ee4178e0"
      },
      "execution_count": null,
      "outputs": [
        {
          "output_type": "stream",
          "name": "stdout",
          "text": [
            "Mapping of Face and its ID {0: 0, 1: 1, 2: 2, 3: 3, 4: 4, 5: 5, 6: 6, 7: 7, 8: 8, 9: 9, 10: 10, 11: 11, 12: 12, 13: 13, 14: 14, 15: 15}\n",
            "\n",
            " The Number of output neurons:  16\n"
          ]
        }
      ]
    },
    {
      "cell_type": "code",
      "source": [
        "from keras.models import Sequential\n",
        "from keras.layers import Convolution2D\n",
        "from keras.layers import MaxPool2D\n",
        "from keras.layers import Flatten\n",
        "from keras.layers import Dense\n",
        "\n",
        "classifier= Sequential()\n",
        "classifier.add(Convolution2D(32, kernel_size=(5, 5), strides=(1, 1),\n",
        "input_shape=(64,64,3), activation='relu'))\n",
        "classifier.add(MaxPool2D(pool_size=(2,2)))\n",
        "classifier.add(Convolution2D(64, kernel_size=(5, 5), strides=(1, 1),\n",
        "activation='relu'))\n",
        "classifier.add(MaxPool2D(pool_size=(2,2)))\n",
        "classifier.add(Flatten())\n",
        "classifier.add(Dense(64, activation='relu'))\n",
        "classifier.add(Dense(OutputNeurons, activation='softmax'))\n",
        "classifier.compile(loss='categorical_crossentropy', optimizer ='adam', metrics=[\"accuracy\"])\n"
      ],
      "metadata": {
        "id": "NcEOzrO-rqxm"
      },
      "execution_count": null,
      "outputs": []
    },
    {
      "cell_type": "code",
      "source": [
        "import time\n",
        "StartTime=time.time()\n",
        "classifier.fit( train_set, steps_per_epoch=8, epochs=20,\n",
        "validation_data=testing_set, validation_steps=10)\n",
        "EndTime=time.time()\n"
      ],
      "metadata": {
        "colab": {
          "base_uri": "https://localhost:8080/"
        },
        "id": "bC2G6NT7s_IJ",
        "outputId": "6b49d969-81f6-4cf2-f575-f7e42a850300"
      },
      "execution_count": null,
      "outputs": [
        {
          "output_type": "stream",
          "name": "stdout",
          "text": [
            "Epoch 1/20\n",
            "8/8 [==============================] - ETA: 0s - loss: 0.1375 - accuracy: 0.9631"
          ]
        },
        {
          "output_type": "stream",
          "name": "stderr",
          "text": [
            "WARNING:tensorflow:Your input ran out of data; interrupting training. Make sure that your dataset or generator can generate at least `steps_per_epoch * epochs` batches (in this case, 10 batches). You may need to use the repeat() function when building your dataset.\n"
          ]
        },
        {
          "output_type": "stream",
          "name": "stdout",
          "text": [
            "\b\b\b\b\b\b\b\b\b\b\b\b\b\b\b\b\b\b\b\b\b\b\b\b\b\b\b\b\b\b\b\b\b\b\b\b\b\b\b\b\b\b\b\b\b\b\b\b\b\b\b\b\b\b\b\b\b\b\b\b\b\b\b\b\b\b\b\b\b\b\b\b\b\b\b\b\b\b\b\b\r8/8 [==============================] - 1s 161ms/step - loss: 0.1375 - accuracy: 0.9631 - val_loss: 0.2003 - val_accuracy: 0.9219\n",
            "Epoch 2/20\n",
            "8/8 [==============================] - 1s 143ms/step - loss: 0.0544 - accuracy: 0.9959\n",
            "Epoch 3/20\n",
            "8/8 [==============================] - 1s 144ms/step - loss: 0.0135 - accuracy: 0.9959\n",
            "Epoch 4/20\n",
            "8/8 [==============================] - 1s 141ms/step - loss: 0.0041 - accuracy: 1.0000\n",
            "Epoch 5/20\n",
            "8/8 [==============================] - 2s 200ms/step - loss: 0.0019 - accuracy: 1.0000\n",
            "Epoch 6/20\n",
            "8/8 [==============================] - 1s 139ms/step - loss: 0.0012 - accuracy: 1.0000\n",
            "Epoch 7/20\n",
            "8/8 [==============================] - 1s 143ms/step - loss: 4.4575e-04 - accuracy: 1.0000\n",
            "Epoch 8/20\n",
            "8/8 [==============================] - 1s 143ms/step - loss: 3.5597e-04 - accuracy: 1.0000\n",
            "Epoch 9/20\n",
            "8/8 [==============================] - 1s 139ms/step - loss: 2.9868e-04 - accuracy: 1.0000\n",
            "Epoch 10/20\n",
            "8/8 [==============================] - 1s 140ms/step - loss: 2.5437e-04 - accuracy: 1.0000\n",
            "Epoch 11/20\n",
            "8/8 [==============================] - 1s 142ms/step - loss: 2.2660e-04 - accuracy: 1.0000\n",
            "Epoch 12/20\n",
            "8/8 [==============================] - 2s 199ms/step - loss: 2.0691e-04 - accuracy: 1.0000\n",
            "Epoch 13/20\n",
            "8/8 [==============================] - 1s 141ms/step - loss: 1.9128e-04 - accuracy: 1.0000\n",
            "Epoch 14/20\n",
            "8/8 [==============================] - 1s 140ms/step - loss: 1.7762e-04 - accuracy: 1.0000\n",
            "Epoch 15/20\n",
            "8/8 [==============================] - 1s 141ms/step - loss: 1.6651e-04 - accuracy: 1.0000\n",
            "Epoch 16/20\n",
            "8/8 [==============================] - 1s 139ms/step - loss: 1.5660e-04 - accuracy: 1.0000\n",
            "Epoch 17/20\n",
            "8/8 [==============================] - 1s 141ms/step - loss: 1.4677e-04 - accuracy: 1.0000\n",
            "Epoch 18/20\n",
            "8/8 [==============================] - 1s 141ms/step - loss: 1.3841e-04 - accuracy: 1.0000\n",
            "Epoch 19/20\n",
            "8/8 [==============================] - 1s 153ms/step - loss: 1.3071e-04 - accuracy: 1.0000\n",
            "Epoch 20/20\n",
            "8/8 [==============================] - 2s 163ms/step - loss: 1.2445e-04 - accuracy: 1.0000\n"
          ]
        }
      ]
    },
    {
      "cell_type": "code",
      "source": [
        "import numpy as np\n",
        "from keras.preprocessing import image\n",
        "ImagePath='/content/Face_Images/Final_Testing_Images/face12/1face12.jpg'\n",
        "test_image=image.load_img(ImagePath,target_size=(64, 64))\n",
        "test_image=image.img_to_array(test_image)\n",
        "test_image=np.expand_dims(test_image,axis=0)\n",
        "result=classifier.predict(test_image,verbose=0)\n",
        "print('Prediction is: ',ResultMap[np.argmax(result)])"
      ],
      "metadata": {
        "colab": {
          "base_uri": "https://localhost:8080/"
        },
        "id": "bOkGZLzuurE-",
        "outputId": "0f2f6ecb-66bc-4abb-e021-efcf0b4be2e5"
      },
      "execution_count": null,
      "outputs": [
        {
          "output_type": "stream",
          "name": "stdout",
          "text": [
            "Prediction is:  3\n"
          ]
        }
      ]
    }
  ]
}